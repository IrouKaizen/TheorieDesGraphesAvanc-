{
 "cells": [
  {
   "cell_type": "code",
   "execution_count": 1,
   "id": "1125b518",
   "metadata": {},
   "outputs": [],
   "source": [
    "#Devoir surveillé du semestre 5\n",
    "#Elève : Irène AMEDJI\n",
    "#Année scolaire : 2023-2024"
   ]
  },
  {
   "cell_type": "code",
   "execution_count": 2,
   "id": "ba1ca927",
   "metadata": {},
   "outputs": [],
   "source": [
    "############Exercice 1############"
   ]
  },
  {
   "cell_type": "code",
   "execution_count": 26,
   "id": "13e1170c",
   "metadata": {},
   "outputs": [
    {
     "name": "stdout",
     "output_type": "stream",
     "text": [
      "Le graphe est orienté.\n"
     ]
    }
   ],
   "source": [
    "#1-a) Oui le graphe est orienté car car la matrice d'adjacence M est symétrique.\n",
    "\n",
    "# Matrice d'adjacence\n",
    "\n",
    "import numpy as np\n",
    "import networkx as nx\n",
    "import matplotlib.pyplot as plt\n",
    "\n",
    "M = np.array([[0, 1, 1, 1, 0],\n",
    "              [1, 0, 1, 0, 1],\n",
    "              [1, 1, 0, 0, 1],\n",
    "              [0, 1, 0, 0, 1],\n",
    "              [1, 1, 0, 1, 0]])\n",
    "\n",
    "def is_oriented(matrix):\n",
    "    return not np.array_equal(matrix, matrix.T)\n",
    "\n",
    "oriented = is_oriented(M)\n",
    "if oriented:\n",
    "    print(\"Le graphe est orienté.\")\n",
    "else:\n",
    "    print(\"Le graphe n'est pas orienté.\")"
   ]
  },
  {
   "cell_type": "code",
   "execution_count": 39,
   "id": "7cf155b8",
   "metadata": {},
   "outputs": [
    {
     "ename": "NetworkXError",
     "evalue": "random_state_index is incorrect",
     "output_type": "error",
     "traceback": [
      "\u001b[1;31m---------------------------------------------------------------------------\u001b[0m",
      "\u001b[1;31mIndexError\u001b[0m                                Traceback (most recent call last)",
      "\u001b[1;32mC:\\ProgramData\\Anaconda3\\lib\\site-packages\\networkx\\utils\\decorators.py\u001b[0m in \u001b[0;36m_random_state\u001b[1;34m(func, *args, **kwargs)\u001b[0m\n\u001b[0;32m    395\u001b[0m         \u001b[1;32mtry\u001b[0m\u001b[1;33m:\u001b[0m\u001b[1;33m\u001b[0m\u001b[1;33m\u001b[0m\u001b[0m\n\u001b[1;32m--> 396\u001b[1;33m             \u001b[0mrandom_state_arg\u001b[0m \u001b[1;33m=\u001b[0m \u001b[0margs\u001b[0m\u001b[1;33m[\u001b[0m\u001b[0mrandom_state_index\u001b[0m\u001b[1;33m]\u001b[0m\u001b[1;33m\u001b[0m\u001b[1;33m\u001b[0m\u001b[0m\n\u001b[0m\u001b[0;32m    397\u001b[0m         \u001b[1;32mexcept\u001b[0m \u001b[0mTypeError\u001b[0m \u001b[1;32mas\u001b[0m \u001b[0me\u001b[0m\u001b[1;33m:\u001b[0m\u001b[1;33m\u001b[0m\u001b[1;33m\u001b[0m\u001b[0m\n",
      "\u001b[1;31mIndexError\u001b[0m: tuple index out of range",
      "\nThe above exception was the direct cause of the following exception:\n",
      "\u001b[1;31mNetworkXError\u001b[0m                             Traceback (most recent call last)",
      "\u001b[1;32m<ipython-input-39-c16ff8caaa01>\u001b[0m in \u001b[0;36m<module>\u001b[1;34m\u001b[0m\n\u001b[0;32m     13\u001b[0m \u001b[1;33m\u001b[0m\u001b[0m\n\u001b[0;32m     14\u001b[0m \u001b[1;31m# Définition d'une disposition aléatoire des nœuds\u001b[0m\u001b[1;33m\u001b[0m\u001b[1;33m\u001b[0m\u001b[1;33m\u001b[0m\u001b[0m\n\u001b[1;32m---> 15\u001b[1;33m \u001b[0mpos\u001b[0m \u001b[1;33m=\u001b[0m \u001b[0mnx\u001b[0m\u001b[1;33m.\u001b[0m\u001b[0mrandom_layout\u001b[0m\u001b[1;33m(\u001b[0m\u001b[0mG\u001b[0m\u001b[1;33m)\u001b[0m\u001b[1;33m\u001b[0m\u001b[1;33m\u001b[0m\u001b[0m\n\u001b[0m\u001b[0;32m     16\u001b[0m \u001b[1;33m\u001b[0m\u001b[0m\n\u001b[0;32m     17\u001b[0m \u001b[1;31m# Dessin du graphe\u001b[0m\u001b[1;33m\u001b[0m\u001b[1;33m\u001b[0m\u001b[1;33m\u001b[0m\u001b[0m\n",
      "\u001b[1;32mC:\\ProgramData\\Anaconda3\\lib\\site-packages\\decorator.py\u001b[0m in \u001b[0;36mfun\u001b[1;34m(*args, **kw)\u001b[0m\n\u001b[0;32m    229\u001b[0m             \u001b[1;32mif\u001b[0m \u001b[1;32mnot\u001b[0m \u001b[0mkwsyntax\u001b[0m\u001b[1;33m:\u001b[0m\u001b[1;33m\u001b[0m\u001b[1;33m\u001b[0m\u001b[0m\n\u001b[0;32m    230\u001b[0m                 \u001b[0margs\u001b[0m\u001b[1;33m,\u001b[0m \u001b[0mkw\u001b[0m \u001b[1;33m=\u001b[0m \u001b[0mfix\u001b[0m\u001b[1;33m(\u001b[0m\u001b[0margs\u001b[0m\u001b[1;33m,\u001b[0m \u001b[0mkw\u001b[0m\u001b[1;33m,\u001b[0m \u001b[0msig\u001b[0m\u001b[1;33m)\u001b[0m\u001b[1;33m\u001b[0m\u001b[1;33m\u001b[0m\u001b[0m\n\u001b[1;32m--> 231\u001b[1;33m             \u001b[1;32mreturn\u001b[0m \u001b[0mcaller\u001b[0m\u001b[1;33m(\u001b[0m\u001b[0mfunc\u001b[0m\u001b[1;33m,\u001b[0m \u001b[1;33m*\u001b[0m\u001b[1;33m(\u001b[0m\u001b[0mextras\u001b[0m \u001b[1;33m+\u001b[0m \u001b[0margs\u001b[0m\u001b[1;33m)\u001b[0m\u001b[1;33m,\u001b[0m \u001b[1;33m**\u001b[0m\u001b[0mkw\u001b[0m\u001b[1;33m)\u001b[0m\u001b[1;33m\u001b[0m\u001b[1;33m\u001b[0m\u001b[0m\n\u001b[0m\u001b[0;32m    232\u001b[0m     \u001b[0mfun\u001b[0m\u001b[1;33m.\u001b[0m\u001b[0m__name__\u001b[0m \u001b[1;33m=\u001b[0m \u001b[0mfunc\u001b[0m\u001b[1;33m.\u001b[0m\u001b[0m__name__\u001b[0m\u001b[1;33m\u001b[0m\u001b[1;33m\u001b[0m\u001b[0m\n\u001b[0;32m    233\u001b[0m     \u001b[0mfun\u001b[0m\u001b[1;33m.\u001b[0m\u001b[0m__doc__\u001b[0m \u001b[1;33m=\u001b[0m \u001b[0mfunc\u001b[0m\u001b[1;33m.\u001b[0m\u001b[0m__doc__\u001b[0m\u001b[1;33m\u001b[0m\u001b[1;33m\u001b[0m\u001b[0m\n",
      "\u001b[1;32mC:\\ProgramData\\Anaconda3\\lib\\site-packages\\networkx\\utils\\decorators.py\u001b[0m in \u001b[0;36m_random_state\u001b[1;34m(func, *args, **kwargs)\u001b[0m\n\u001b[0;32m    398\u001b[0m             \u001b[1;32mraise\u001b[0m \u001b[0mnx\u001b[0m\u001b[1;33m.\u001b[0m\u001b[0mNetworkXError\u001b[0m\u001b[1;33m(\u001b[0m\u001b[1;34m\"random_state_index must be an integer\"\u001b[0m\u001b[1;33m)\u001b[0m \u001b[1;32mfrom\u001b[0m \u001b[0me\u001b[0m\u001b[1;33m\u001b[0m\u001b[1;33m\u001b[0m\u001b[0m\n\u001b[0;32m    399\u001b[0m         \u001b[1;32mexcept\u001b[0m \u001b[0mIndexError\u001b[0m \u001b[1;32mas\u001b[0m \u001b[0me\u001b[0m\u001b[1;33m:\u001b[0m\u001b[1;33m\u001b[0m\u001b[1;33m\u001b[0m\u001b[0m\n\u001b[1;32m--> 400\u001b[1;33m             \u001b[1;32mraise\u001b[0m \u001b[0mnx\u001b[0m\u001b[1;33m.\u001b[0m\u001b[0mNetworkXError\u001b[0m\u001b[1;33m(\u001b[0m\u001b[1;34m\"random_state_index is incorrect\"\u001b[0m\u001b[1;33m)\u001b[0m \u001b[1;32mfrom\u001b[0m \u001b[0me\u001b[0m\u001b[1;33m\u001b[0m\u001b[1;33m\u001b[0m\u001b[0m\n\u001b[0m\u001b[0;32m    401\u001b[0m \u001b[1;33m\u001b[0m\u001b[0m\n\u001b[0;32m    402\u001b[0m         \u001b[1;31m# Create a numpy.random.RandomState instance\u001b[0m\u001b[1;33m\u001b[0m\u001b[1;33m\u001b[0m\u001b[1;33m\u001b[0m\u001b[0m\n",
      "\u001b[1;31mNetworkXError\u001b[0m: random_state_index is incorrect"
     ]
    }
   ],
   "source": [
    "#b- Représentons le graphe G\n",
    "\n",
    "\n",
    "# La matrice donnée\n",
    "M = np.array([[0, 1, 1, 1, 0],\n",
    "              [1, 0, 1, 0, 1],\n",
    "              [1, 1, 0, 0, 1],\n",
    "              [0, 1, 0, 0, 1],\n",
    "              [1, 1, 0, 1, 0]])\n",
    "\n",
    "# Création du graphe à partir de la matrice\n",
    "G = nx.from_numpy_matrix(M)\n",
    "\n",
    "# Définition d'une disposition aléatoire des nœuds\n",
    "pos = nx.random_layout(G)\n",
    "\n",
    "# Dessin du graphe\n",
    "nx.draw(G, pos, with_labels=True, node_color='skyblue', node_size=500, font_weight='bold', font_size=10)\n",
    "plt.title('Graphe à partir de la matrice M')\n",
    "plt.show()\n"
   ]
  },
  {
   "cell_type": "code",
   "execution_count": 11,
   "id": "8172f2f6",
   "metadata": {},
   "outputs": [
    {
     "name": "stdout",
     "output_type": "stream",
     "text": [
      "Le degré de A est 3\n",
      "Le degré de B est 3\n",
      "Le degré de C est 3\n",
      "Le degré de D est 2\n",
      "Le degré de E est 3\n",
      "L'ordre du graphe est 5\n"
     ]
    }
   ],
   "source": [
    "#c) Ordre du graphe et degré de chaque sommet\n",
    "\n",
    "order = len(M)\n",
    "degrees = [sum(row) for row in M]\n",
    "vertices = ['A', 'B', 'C', 'D', 'E']\n",
    "for i, vertex in enumerate(vertices):\n",
    "    print(f\"Le degré de {vertex} est {degrees[i]}\")\n",
    "print(f\"L'ordre du graphe est {order}\")\n"
   ]
  },
  {
   "cell_type": "code",
   "execution_count": 12,
   "id": "b9e28935",
   "metadata": {},
   "outputs": [
    {
     "name": "stdout",
     "output_type": "stream",
     "text": [
      "Le graphe possède des sommets non adjacents :\n",
      "A et E ne sont pas adjacents.\n",
      "B et D ne sont pas adjacents.\n",
      "C et D ne sont pas adjacents.\n",
      "D et A ne sont pas adjacents.\n",
      "D et C ne sont pas adjacents.\n",
      "E et C ne sont pas adjacents.\n"
     ]
    }
   ],
   "source": [
    "# 1-d) Trouver les sommets non adjacents\n",
    "\n",
    "non_adjacent_vertices = []\n",
    "for i in range(order):\n",
    "    for j in range(order):\n",
    "        if M[i][j] == 0 and i != j:\n",
    "            non_adjacent_vertices.append((vertices[i], vertices[j]))\n",
    "\n",
    "if non_adjacent_vertices:\n",
    "    print(\"Le graphe possède des sommets non adjacents :\")\n",
    "    for pair in non_adjacent_vertices:\n",
    "        print(f\"{pair[0]} et {pair[1]} ne sont pas adjacents.\")\n",
    "else:\n",
    "    print(\"Le graphe ne possède pas de sommets non adjacents.\")\n"
   ]
  },
  {
   "cell_type": "code",
   "execution_count": 24,
   "id": "76cf3fa7",
   "metadata": {},
   "outputs": [
    {
     "name": "stdout",
     "output_type": "stream",
     "text": [
      "Matrice M² du graphe :\n",
      "[[2 2 1 0 3]\n",
      " [2 3 1 2 1]\n",
      " [2 2 2 2 1]\n",
      " [2 1 1 1 1]\n",
      " [1 2 2 1 2]]\n"
     ]
    }
   ],
   "source": [
    "# 2) Déterminer la matrice M²\n",
    "\n",
    "# Fonction pour calculer la matrice M²\n",
    "def calculer_matrice_carree(graph):\n",
    "    adjacency_matrix = np.array(graph)\n",
    "    squared_matrix = np.dot(adjacency_matrix, adjacency_matrix)\n",
    "    return squared_matrix\n",
    "\n",
    "graph =[\n",
    "    [0, 1, 1, 1, 0],\n",
    "    [1, 0, 1, 0, 1],\n",
    "    [1, 1, 0, 0, 1],\n",
    "    [0, 1, 0, 0, 1],\n",
    "    [1, 1, 0, 1, 0]\n",
    "]\n",
    "\n",
    "# Calcul de la matrice M² du graphe donné\n",
    "matrice_carree = calculer_matrice_carree(graph)\n",
    "\n",
    "# Affichage de la matrice M²\n",
    "print(\"Matrice M² du graphe :\")\n",
    "print(matrice_carree)\n"
   ]
  },
  {
   "cell_type": "code",
   "execution_count": 15,
   "id": "27601ce6",
   "metadata": {},
   "outputs": [
    {
     "name": "stdout",
     "output_type": "stream",
     "text": [
      "Le nombre de chemins de longueur 2 partant de B est 9\n"
     ]
    }
   ],
   "source": [
    "# 2-a) Le nombre de chemins de longueur 2 partant de B\n",
    "\n",
    "starting_from_B = M_square[1][:]\n",
    "number_of_paths_starting_B = sum(starting_from_B)\n",
    "print(f\"Le nombre de chemins de longueur 2 partant de B est {number_of_paths_starting_B}\")"
   ]
  },
  {
   "cell_type": "code",
   "execution_count": 16,
   "id": "618abe79",
   "metadata": {},
   "outputs": [
    {
     "name": "stdout",
     "output_type": "stream",
     "text": [
      "Le nombre de chemins de longueur 2 arrivant en B est 10\n"
     ]
    }
   ],
   "source": [
    "# 2-b) Le nombre de chemins de longueur 2 arrivant en B\n",
    "arriving_at_B = M_square[:, 1]\n",
    "number_of_paths_arriving_B = sum(arriving_at_B)\n",
    "print(f\"Le nombre de chemins de longueur 2 arrivant en B est {number_of_paths_arriving_B}\")\n"
   ]
  },
  {
   "cell_type": "code",
   "execution_count": 17,
   "id": "8a902eef",
   "metadata": {},
   "outputs": [
    {
     "name": "stdout",
     "output_type": "stream",
     "text": [
      "Il n'existe pas de chemin de longueur 2 allant de A à D.\n"
     ]
    }
   ],
   "source": [
    "# 2-c) Trouver un couple (X,Y) où il n'existe pas de chemin de longueur 2 allant de X à Y\n",
    "no_path_exists = np.where(M_square == 0)\n",
    "if len(no_path_exists[0]) > 0:\n",
    "    x = vertices[no_path_exists[0][0]]\n",
    "    y = vertices[no_path_exists[1][0]]\n",
    "    print(f\"Il n'existe pas de chemin de longueur 2 allant de {x} à {y}.\")\n",
    "else:\n",
    "    print(\"Tous les couples (X,Y) ont un chemin de longueur 2.\")"
   ]
  },
  {
   "cell_type": "code",
   "execution_count": 25,
   "id": "691b9ce3",
   "metadata": {},
   "outputs": [],
   "source": [
    "#############Exercice2####################"
   ]
  },
  {
   "cell_type": "code",
   "execution_count": 40,
   "id": "3dc349c2",
   "metadata": {},
   "outputs": [
    {
     "ename": "NetworkXError",
     "evalue": "random_state_index is incorrect",
     "output_type": "error",
     "traceback": [
      "\u001b[1;31m---------------------------------------------------------------------------\u001b[0m",
      "\u001b[1;31mIndexError\u001b[0m                                Traceback (most recent call last)",
      "\u001b[1;32mC:\\ProgramData\\Anaconda3\\lib\\site-packages\\networkx\\utils\\decorators.py\u001b[0m in \u001b[0;36m_random_state\u001b[1;34m(func, *args, **kwargs)\u001b[0m\n\u001b[0;32m    395\u001b[0m         \u001b[1;32mtry\u001b[0m\u001b[1;33m:\u001b[0m\u001b[1;33m\u001b[0m\u001b[1;33m\u001b[0m\u001b[0m\n\u001b[1;32m--> 396\u001b[1;33m             \u001b[0mrandom_state_arg\u001b[0m \u001b[1;33m=\u001b[0m \u001b[0margs\u001b[0m\u001b[1;33m[\u001b[0m\u001b[0mrandom_state_index\u001b[0m\u001b[1;33m]\u001b[0m\u001b[1;33m\u001b[0m\u001b[1;33m\u001b[0m\u001b[0m\n\u001b[0m\u001b[0;32m    397\u001b[0m         \u001b[1;32mexcept\u001b[0m \u001b[0mTypeError\u001b[0m \u001b[1;32mas\u001b[0m \u001b[0me\u001b[0m\u001b[1;33m:\u001b[0m\u001b[1;33m\u001b[0m\u001b[1;33m\u001b[0m\u001b[0m\n",
      "\u001b[1;31mIndexError\u001b[0m: tuple index out of range",
      "\nThe above exception was the direct cause of the following exception:\n",
      "\u001b[1;31mNetworkXError\u001b[0m                             Traceback (most recent call last)",
      "\u001b[1;32m<ipython-input-40-8e99f0d8d9c3>\u001b[0m in \u001b[0;36m<module>\u001b[1;34m\u001b[0m\n\u001b[0;32m     25\u001b[0m \u001b[1;33m\u001b[0m\u001b[0m\n\u001b[0;32m     26\u001b[0m \u001b[1;31m# Visualisation du graphe\u001b[0m\u001b[1;33m\u001b[0m\u001b[1;33m\u001b[0m\u001b[1;33m\u001b[0m\u001b[0m\n\u001b[1;32m---> 27\u001b[1;33m \u001b[0mpos\u001b[0m \u001b[1;33m=\u001b[0m \u001b[0mnx\u001b[0m\u001b[1;33m.\u001b[0m\u001b[0mspring_layout\u001b[0m\u001b[1;33m(\u001b[0m\u001b[0mG\u001b[0m\u001b[1;33m)\u001b[0m  \u001b[1;31m# disposition des nœuds\u001b[0m\u001b[1;33m\u001b[0m\u001b[1;33m\u001b[0m\u001b[0m\n\u001b[0m\u001b[0;32m     28\u001b[0m \u001b[1;33m\u001b[0m\u001b[0m\n\u001b[0;32m     29\u001b[0m \u001b[0mnx\u001b[0m\u001b[1;33m.\u001b[0m\u001b[0mdraw\u001b[0m\u001b[1;33m(\u001b[0m\u001b[0mG\u001b[0m\u001b[1;33m,\u001b[0m \u001b[0mpos\u001b[0m\u001b[1;33m,\u001b[0m \u001b[0mwith_labels\u001b[0m\u001b[1;33m=\u001b[0m\u001b[1;32mTrue\u001b[0m\u001b[1;33m,\u001b[0m \u001b[0mnode_size\u001b[0m\u001b[1;33m=\u001b[0m\u001b[1;36m800\u001b[0m\u001b[1;33m,\u001b[0m \u001b[0mnode_color\u001b[0m\u001b[1;33m=\u001b[0m\u001b[1;34m'skyblue'\u001b[0m\u001b[1;33m,\u001b[0m \u001b[0mfont_weight\u001b[0m\u001b[1;33m=\u001b[0m\u001b[1;34m'bold'\u001b[0m\u001b[1;33m)\u001b[0m\u001b[1;33m\u001b[0m\u001b[1;33m\u001b[0m\u001b[0m\n",
      "\u001b[1;32mC:\\ProgramData\\Anaconda3\\lib\\site-packages\\decorator.py\u001b[0m in \u001b[0;36mfun\u001b[1;34m(*args, **kw)\u001b[0m\n\u001b[0;32m    229\u001b[0m             \u001b[1;32mif\u001b[0m \u001b[1;32mnot\u001b[0m \u001b[0mkwsyntax\u001b[0m\u001b[1;33m:\u001b[0m\u001b[1;33m\u001b[0m\u001b[1;33m\u001b[0m\u001b[0m\n\u001b[0;32m    230\u001b[0m                 \u001b[0margs\u001b[0m\u001b[1;33m,\u001b[0m \u001b[0mkw\u001b[0m \u001b[1;33m=\u001b[0m \u001b[0mfix\u001b[0m\u001b[1;33m(\u001b[0m\u001b[0margs\u001b[0m\u001b[1;33m,\u001b[0m \u001b[0mkw\u001b[0m\u001b[1;33m,\u001b[0m \u001b[0msig\u001b[0m\u001b[1;33m)\u001b[0m\u001b[1;33m\u001b[0m\u001b[1;33m\u001b[0m\u001b[0m\n\u001b[1;32m--> 231\u001b[1;33m             \u001b[1;32mreturn\u001b[0m \u001b[0mcaller\u001b[0m\u001b[1;33m(\u001b[0m\u001b[0mfunc\u001b[0m\u001b[1;33m,\u001b[0m \u001b[1;33m*\u001b[0m\u001b[1;33m(\u001b[0m\u001b[0mextras\u001b[0m \u001b[1;33m+\u001b[0m \u001b[0margs\u001b[0m\u001b[1;33m)\u001b[0m\u001b[1;33m,\u001b[0m \u001b[1;33m**\u001b[0m\u001b[0mkw\u001b[0m\u001b[1;33m)\u001b[0m\u001b[1;33m\u001b[0m\u001b[1;33m\u001b[0m\u001b[0m\n\u001b[0m\u001b[0;32m    232\u001b[0m     \u001b[0mfun\u001b[0m\u001b[1;33m.\u001b[0m\u001b[0m__name__\u001b[0m \u001b[1;33m=\u001b[0m \u001b[0mfunc\u001b[0m\u001b[1;33m.\u001b[0m\u001b[0m__name__\u001b[0m\u001b[1;33m\u001b[0m\u001b[1;33m\u001b[0m\u001b[0m\n\u001b[0;32m    233\u001b[0m     \u001b[0mfun\u001b[0m\u001b[1;33m.\u001b[0m\u001b[0m__doc__\u001b[0m \u001b[1;33m=\u001b[0m \u001b[0mfunc\u001b[0m\u001b[1;33m.\u001b[0m\u001b[0m__doc__\u001b[0m\u001b[1;33m\u001b[0m\u001b[1;33m\u001b[0m\u001b[0m\n",
      "\u001b[1;32mC:\\ProgramData\\Anaconda3\\lib\\site-packages\\networkx\\utils\\decorators.py\u001b[0m in \u001b[0;36m_random_state\u001b[1;34m(func, *args, **kwargs)\u001b[0m\n\u001b[0;32m    398\u001b[0m             \u001b[1;32mraise\u001b[0m \u001b[0mnx\u001b[0m\u001b[1;33m.\u001b[0m\u001b[0mNetworkXError\u001b[0m\u001b[1;33m(\u001b[0m\u001b[1;34m\"random_state_index must be an integer\"\u001b[0m\u001b[1;33m)\u001b[0m \u001b[1;32mfrom\u001b[0m \u001b[0me\u001b[0m\u001b[1;33m\u001b[0m\u001b[1;33m\u001b[0m\u001b[0m\n\u001b[0;32m    399\u001b[0m         \u001b[1;32mexcept\u001b[0m \u001b[0mIndexError\u001b[0m \u001b[1;32mas\u001b[0m \u001b[0me\u001b[0m\u001b[1;33m:\u001b[0m\u001b[1;33m\u001b[0m\u001b[1;33m\u001b[0m\u001b[0m\n\u001b[1;32m--> 400\u001b[1;33m             \u001b[1;32mraise\u001b[0m \u001b[0mnx\u001b[0m\u001b[1;33m.\u001b[0m\u001b[0mNetworkXError\u001b[0m\u001b[1;33m(\u001b[0m\u001b[1;34m\"random_state_index is incorrect\"\u001b[0m\u001b[1;33m)\u001b[0m \u001b[1;32mfrom\u001b[0m \u001b[0me\u001b[0m\u001b[1;33m\u001b[0m\u001b[1;33m\u001b[0m\u001b[0m\n\u001b[0m\u001b[0;32m    401\u001b[0m \u001b[1;33m\u001b[0m\u001b[0m\n\u001b[0;32m    402\u001b[0m         \u001b[1;31m# Create a numpy.random.RandomState instance\u001b[0m\u001b[1;33m\u001b[0m\u001b[1;33m\u001b[0m\u001b[1;33m\u001b[0m\u001b[0m\n",
      "\u001b[1;31mNetworkXError\u001b[0m: random_state_index is incorrect"
     ]
    }
   ],
   "source": [
    "#1- Représentons le graphe\n",
    "\n",
    "import networkx as nx\n",
    "import matplotlib.pyplot as plt\n",
    "\n",
    "# Création du graphe\n",
    "G = nx.Graph()\n",
    "\n",
    "# Ajout des nœuds (groupes)\n",
    "groupes = ['g1', 'g2', 'g3', 'g4', 'g5']\n",
    "G.add_nodes_from(groupes)\n",
    "\n",
    "# Ajout des arêtes (liens entre groupes et épreuves)\n",
    "liens = {\n",
    "    'g1': ['e1', 'e2', 'e3'],\n",
    "    'g2': ['e2', 'e3', 'e4', 'e6'],\n",
    "    'g3': ['e1', 'e3', 'e5'],\n",
    "    'g4': ['e1', 'e2', 'e4'],\n",
    "    'g5': ['e2', 'e4', 'e5']\n",
    "}\n",
    "\n",
    "for groupe, epreuves in liens.items():\n",
    "    for epreuve in epreuves:\n",
    "        G.add_edge(groupe, epreuve)\n",
    "\n",
    "# Visualisation du graphe\n",
    "pos = nx.spring_layout(G)  # disposition des nœuds\n",
    "\n",
    "nx.draw(G, pos, with_labels=True, node_size=800, node_color='skyblue', font_weight='bold')\n",
    "plt.title('Graphe des épreuves pour les groupes')\n",
    "plt.show()\n"
   ]
  },
  {
   "cell_type": "code",
   "execution_count": 37,
   "id": "93742745",
   "metadata": {},
   "outputs": [
    {
     "ename": "NameError",
     "evalue": "name 'pos' is not defined",
     "output_type": "error",
     "traceback": [
      "\u001b[1;31m---------------------------------------------------------------------------\u001b[0m",
      "\u001b[1;31mNameError\u001b[0m                                 Traceback (most recent call last)",
      "\u001b[1;32m<ipython-input-37-980d3144bea8>\u001b[0m in \u001b[0;36m<module>\u001b[1;34m\u001b[0m\n\u001b[0;32m     15\u001b[0m \u001b[1;33m\u001b[0m\u001b[0m\n\u001b[0;32m     16\u001b[0m \u001b[1;31m# Affichage du graphe avec les couleurs attribuées\u001b[0m\u001b[1;33m\u001b[0m\u001b[1;33m\u001b[0m\u001b[1;33m\u001b[0m\u001b[0m\n\u001b[1;32m---> 17\u001b[1;33m \u001b[0mnx\u001b[0m\u001b[1;33m.\u001b[0m\u001b[0mdraw\u001b[0m\u001b[1;33m(\u001b[0m\u001b[0mG\u001b[0m\u001b[1;33m,\u001b[0m \u001b[0mpos\u001b[0m\u001b[1;33m,\u001b[0m \u001b[0mwith_labels\u001b[0m\u001b[1;33m=\u001b[0m\u001b[1;32mTrue\u001b[0m\u001b[1;33m,\u001b[0m \u001b[0mnode_size\u001b[0m\u001b[1;33m=\u001b[0m\u001b[1;36m800\u001b[0m\u001b[1;33m,\u001b[0m \u001b[0mnode_color\u001b[0m\u001b[1;33m=\u001b[0m\u001b[1;33m[\u001b[0m\u001b[0mcouleurs\u001b[0m\u001b[1;33m[\u001b[0m\u001b[0mnode\u001b[0m\u001b[1;33m]\u001b[0m \u001b[1;32mfor\u001b[0m \u001b[0mnode\u001b[0m \u001b[1;32min\u001b[0m \u001b[0mG\u001b[0m\u001b[1;33m.\u001b[0m\u001b[0mnodes\u001b[0m\u001b[1;33m(\u001b[0m\u001b[1;33m)\u001b[0m\u001b[1;33m]\u001b[0m\u001b[1;33m,\u001b[0m \u001b[0mfont_weight\u001b[0m\u001b[1;33m=\u001b[0m\u001b[1;34m'bold'\u001b[0m\u001b[1;33m)\u001b[0m\u001b[1;33m\u001b[0m\u001b[1;33m\u001b[0m\u001b[0m\n\u001b[0m\u001b[0;32m     18\u001b[0m \u001b[0mplt\u001b[0m\u001b[1;33m.\u001b[0m\u001b[0mtitle\u001b[0m\u001b[1;33m(\u001b[0m\u001b[1;34m'Graphe des épreuves pour les groupes avec couleurs'\u001b[0m\u001b[1;33m)\u001b[0m\u001b[1;33m\u001b[0m\u001b[1;33m\u001b[0m\u001b[0m\n\u001b[0;32m     19\u001b[0m \u001b[0mplt\u001b[0m\u001b[1;33m.\u001b[0m\u001b[0mshow\u001b[0m\u001b[1;33m(\u001b[0m\u001b[1;33m)\u001b[0m\u001b[1;33m\u001b[0m\u001b[1;33m\u001b[0m\u001b[0m\n",
      "\u001b[1;31mNameError\u001b[0m: name 'pos' is not defined"
     ]
    }
   ],
   "source": [
    "#2-Coloriage des graphes\n",
    "\n",
    "# Attribution des couleurs aux épreuves et aux groupes\n",
    "couleurs = {\n",
    "    'e1': 'orange',\n",
    "    'e2': 'lightgreen',\n",
    "    'e3': 'lightblue',\n",
    "    'e4': 'pink',\n",
    "    'e5': 'yellow',\n",
    "    'e6': 'violet',\n",
    "    'g1': 'skyblue',\n",
    "    'g2': 'salmon',\n",
    "    'g3': 'lightgray',\n",
    "    'g4': 'lightcoral',\n",
    "    'g5': 'lightyellow'\n",
    "}\n",
    "\n",
    "# Affichage du graphe avec les couleurs attribuées\n",
    "nx.draw(G, pos, with_labels=True, node_size=800, node_color=[couleurs[node] for node in G.nodes()], font_weight='bold')\n",
    "plt.title('Graphe des épreuves pour les groupes avec couleurs')\n",
    "plt.show()\n"
   ]
  },
  {
   "cell_type": "code",
   "execution_count": null,
   "id": "addc2814",
   "metadata": {},
   "outputs": [],
   "source": []
  }
 ],
 "metadata": {
  "kernelspec": {
   "display_name": "Python 3",
   "language": "python",
   "name": "python3"
  },
  "language_info": {
   "codemirror_mode": {
    "name": "ipython",
    "version": 3
   },
   "file_extension": ".py",
   "mimetype": "text/x-python",
   "name": "python",
   "nbconvert_exporter": "python",
   "pygments_lexer": "ipython3",
   "version": "3.8.8"
  }
 },
 "nbformat": 4,
 "nbformat_minor": 5
}
